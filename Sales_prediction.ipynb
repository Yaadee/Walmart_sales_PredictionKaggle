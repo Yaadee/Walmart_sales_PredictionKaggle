{
 "cells": [
  {
   "cell_type": "code",
   "execution_count": 5,
   "id": "a0b7225c-a22a-439b-bf17-c6aa2aed67c7",
   "metadata": {},
   "outputs": [
    {
     "ename": "SyntaxError",
     "evalue": "invalid syntax (2758205452.py, line 2)",
     "output_type": "error",
     "traceback": [
      "\u001b[0;36m  Cell \u001b[0;32mIn[5], line 2\u001b[0;36m\u001b[0m\n\u001b[0;31m    pip install statsmodels scikit-learn xgboost mlxtend pandas matplotlib\u001b[0m\n\u001b[0m        ^\u001b[0m\n\u001b[0;31mSyntaxError\u001b[0m\u001b[0;31m:\u001b[0m invalid syntax\n"
     ]
    }
   ],
   "source": [
    "pip install learntools\n",
    "pip install statsmodels scikit-learn xgboost mlxtend pandas matplotlib\n"
   ]
  },
  {
   "cell_type": "code",
   "execution_count": 2,
   "id": "2d68c466-91d4-4df1-ab22-611e24ed80d4",
   "metadata": {},
   "outputs": [
    {
     "ename": "ModuleNotFoundError",
     "evalue": "No module named 'learntools.time_series'",
     "output_type": "error",
     "traceback": [
      "\u001b[0;31m---------------------------------------------------------------------------\u001b[0m",
      "\u001b[0;31mModuleNotFoundError\u001b[0m                       Traceback (most recent call last)",
      "Cell \u001b[0;32mIn[2], line 12\u001b[0m\n\u001b[1;32m     10\u001b[0m \u001b[38;5;28;01mimport\u001b[39;00m \u001b[38;5;21;01mcalendar\u001b[39;00m\n\u001b[1;32m     11\u001b[0m \u001b[38;5;28;01mimport\u001b[39;00m \u001b[38;5;21;01mdatetime\u001b[39;00m \u001b[38;5;28;01mas\u001b[39;00m \u001b[38;5;21;01mdt\u001b[39;00m\n\u001b[0;32m---> 12\u001b[0m \u001b[38;5;28;01mfrom\u001b[39;00m \u001b[38;5;21;01mlearntools\u001b[39;00m\u001b[38;5;21;01m.\u001b[39;00m\u001b[38;5;21;01mtime_series\u001b[39;00m\u001b[38;5;21;01m.\u001b[39;00m\u001b[38;5;21;01mutils\u001b[39;00m \u001b[38;5;28;01mimport\u001b[39;00m plot_periodogram, seasonal_plot, plot_lags, make_lags, make_leads\n\u001b[1;32m     13\u001b[0m \u001b[38;5;28;01mfrom\u001b[39;00m \u001b[38;5;21;01mstatsmodels\u001b[39;00m\u001b[38;5;21;01m.\u001b[39;00m\u001b[38;5;21;01mgraphics\u001b[39;00m\u001b[38;5;21;01m.\u001b[39;00m\u001b[38;5;21;01mtsaplots\u001b[39;00m \u001b[38;5;28;01mimport\u001b[39;00m plot_pacf\n\u001b[1;32m     14\u001b[0m \u001b[38;5;28;01mfrom\u001b[39;00m \u001b[38;5;21;01mstatsmodels\u001b[39;00m\u001b[38;5;21;01m.\u001b[39;00m\u001b[38;5;21;01mtsa\u001b[39;00m\u001b[38;5;21;01m.\u001b[39;00m\u001b[38;5;21;01mdeterministic\u001b[39;00m \u001b[38;5;28;01mimport\u001b[39;00m DeterministicProcess, CalendarFourier\n",
      "\u001b[0;31mModuleNotFoundError\u001b[0m: No module named 'learntools.time_series'"
     ]
    }
   ],
   "source": [
    "# SalesPredictionKaggle.ipynb\n",
    "\n",
    "# Import necessary libraries\n",
    "import pandas as pd\n",
    "import numpy as np\n",
    "import seaborn as sns\n",
    "import matplotlib.pyplot as plt\n",
    "import os\n",
    "import glob\n",
    "import calendar\n",
    "import datetime as dt\n",
    "from learntools.time_series.utils import plot_periodogram, seasonal_plot, plot_lags, make_lags, make_leads\n",
    "from statsmodels.graphics.tsaplots import plot_pacf\n",
    "from statsmodels.tsa.deterministic import DeterministicProcess, CalendarFourier\n",
    "from sklearn.linear_model import LinearRegression\n",
    "from sklearn.metrics import mean_squared_error\n",
    "from sklearn.neighbors import KNeighborsRegressor\n",
    "from sklearn.ensemble import RandomForestRegressor\n",
    "from sklearn.neural_network import MLPRegressor\n",
    "from xgboost import XGBRegressor\n",
    "\n",
    "from mlxtend.preprocessing import minmax_scaling\n"
   ]
  },
  {
   "cell_type": "code",
   "execution_count": 5,
   "id": "628815d1-f3a4-4784-8da7-26500e26d0eb",
   "metadata": {},
   "outputs": [],
   "source": [
    "# Load datasets\n",
    "macro_data = pd.read_csv(\"data/processed_data/macro_economic.csv\")\n",
    "events_Holidays_data = pd.read_csv(\"data/processed_data/events_Holidays_data.csv\")\n",
    "weather_data = pd.read_csv(\"data/processed_data/weather_data.csv\")\n",
    "train_data = pd.read_csv(\"data/processed_data/train.csv\")\n",
    "test_data = pd.read_csv(\"data/raw_data/Kaggle_Submission_Format.csv\")"
   ]
  },
  {
   "cell_type": "code",
   "execution_count": null,
   "id": "c9b2eba6-c8f3-458d-91e1-fbe1227d1718",
   "metadata": {},
   "outputs": [],
   "source": [
    "# Clean the test_data by removing the Unnamed column\n",
    "test_data = test_data.loc[:, ~test_data.columns.str.contains('^Unnamed')]"
   ]
  },
  {
   "cell_type": "code",
   "execution_count": null,
   "id": "37187783-625c-4db9-9306-01d7ef40a784",
   "metadata": {},
   "outputs": [],
   "source": [
    "\n",
    "# Exploratory Data Analysis (EDA)\n",
    "print(\"Train Data Overview:\")\n",
    "print(train_data.head())\n",
    "\n",
    "# Visualize sales over time\n",
    "plt.figure(figsize=(14, 7))\n",
    "sns.lineplot(data=train_data, x='Month', y='Sales(In ThousandDollars)', hue='ProductCategory')\n",
    "plt.title('Sales over Time by Product Category')\n",
    "plt.show()"
   ]
  },
  {
   "cell_type": "code",
   "execution_count": 1,
   "id": "73b058ca-90bb-46c9-8ac9-28cbde95aee0",
   "metadata": {},
   "outputs": [
    {
     "ename": "NameError",
     "evalue": "name 'pd' is not defined",
     "output_type": "error",
     "traceback": [
      "\u001b[0;31m---------------------------------------------------------------------------\u001b[0m",
      "\u001b[0;31mNameError\u001b[0m                                 Traceback (most recent call last)",
      "Cell \u001b[0;32mIn[1], line 3\u001b[0m\n\u001b[1;32m      1\u001b[0m \u001b[38;5;66;03m# Preprocessing and Feature Engineering\u001b[39;00m\n\u001b[1;32m      2\u001b[0m \u001b[38;5;66;03m# Merge datasets\u001b[39;00m\n\u001b[0;32m----> 3\u001b[0m train_data[\u001b[38;5;124m'\u001b[39m\u001b[38;5;124mDate\u001b[39m\u001b[38;5;124m'\u001b[39m] \u001b[38;5;241m=\u001b[39m \u001b[43mpd\u001b[49m\u001b[38;5;241m.\u001b[39mto_datetime(train_data[[\u001b[38;5;124m'\u001b[39m\u001b[38;5;124mYear\u001b[39m\u001b[38;5;124m'\u001b[39m, \u001b[38;5;124m'\u001b[39m\u001b[38;5;124mMonth\u001b[39m\u001b[38;5;124m'\u001b[39m]]\u001b[38;5;241m.\u001b[39massign(DAY\u001b[38;5;241m=\u001b[39m\u001b[38;5;241m1\u001b[39m))\n\u001b[1;32m      4\u001b[0m train_data \u001b[38;5;241m=\u001b[39m train_data\u001b[38;5;241m.\u001b[39mmerge(macro_data, on\u001b[38;5;241m=\u001b[39m[\u001b[38;5;124m'\u001b[39m\u001b[38;5;124mYear\u001b[39m\u001b[38;5;124m'\u001b[39m, \u001b[38;5;124m'\u001b[39m\u001b[38;5;124mMonth\u001b[39m\u001b[38;5;124m'\u001b[39m], how\u001b[38;5;241m=\u001b[39m\u001b[38;5;124m'\u001b[39m\u001b[38;5;124mleft\u001b[39m\u001b[38;5;124m'\u001b[39m)\n\u001b[1;32m      5\u001b[0m train_data \u001b[38;5;241m=\u001b[39m train_data\u001b[38;5;241m.\u001b[39mmerge(events_Holidays_data, on\u001b[38;5;241m=\u001b[39m[\u001b[38;5;124m'\u001b[39m\u001b[38;5;124mYear\u001b[39m\u001b[38;5;124m'\u001b[39m, \u001b[38;5;124m'\u001b[39m\u001b[38;5;124mMonth\u001b[39m\u001b[38;5;124m'\u001b[39m], how\u001b[38;5;241m=\u001b[39m\u001b[38;5;124m'\u001b[39m\u001b[38;5;124mleft\u001b[39m\u001b[38;5;124m'\u001b[39m)\n",
      "\u001b[0;31mNameError\u001b[0m: name 'pd' is not defined"
     ]
    }
   ],
   "source": [
    "# Preprocessing and Feature Engineering\n",
    "# Merge datasets\n",
    "train_data['Date'] = pd.to_datetime(train_data[['Year', 'Month']].assign(DAY=1))\n",
    "train_data = train_data.merge(macro_data, on=['Year', 'Month'], how='left')\n",
    "train_data = train_data.merge(events_Holidays_data, on=['Year', 'Month'], how='left')\n",
    "train_data = train_data.merge(weather_data, on=['Year', 'Month'], how='left')\n",
    "\n",
    "# One-hot encode categorical variables\n",
    "train_data = pd.get_dummies(train_data, columns=['ProductCategory'])\n",
    "\n",
    "# Drop unnecessary columns\n",
    "train_data.drop(columns=['Date', 'Year', 'Month'], inplace=True)\n",
    "\n",
    "# Define features (X) and target (y)\n",
    "X = train_data.drop(columns=['Sales(In ThousandDollars)'])\n",
    "y = train_data['Sales(In ThousandDollars)']\n",
    "\n",
    "# Split data into training and validation sets\n",
    "X_train, X_val, y_train, y_val = train_test_split(X, y, test_size=0.2, random_state=42)\n"
   ]
  },
  {
   "cell_type": "code",
   "execution_count": null,
   "id": "af41840d-a091-4cf4-bffe-24b823eafc26",
   "metadata": {},
   "outputs": [],
   "source": [
    "train_data = pd.read_csv(\"data/processed_data/train.csv\")\n"
   ]
  },
  {
   "cell_type": "code",
   "execution_count": null,
   "id": "18d678ad-37d8-4823-b810-31ba1c319f51",
   "metadata": {},
   "outputs": [],
   "source": [
    "submisson_data=pd.read_csv(\"data/processed_data/Submission.csv\")"
   ]
  },
  {
   "cell_type": "code",
   "execution_count": null,
   "id": "b1e6c214-dc76-4bed-b3e3-f54a7ec2d964",
   "metadata": {},
   "outputs": [],
   "source": [
    "kaggle_submission_format = pd.read_csv(\"data/processed_data/Kaggle_Submission_Format.csv\")"
   ]
  },
  {
   "cell_type": "code",
   "execution_count": null,
   "id": "55e16a04-c2f5-4eff-a0e3-3a2351b575da",
   "metadata": {},
   "outputs": [],
   "source": [
    "kaggle_submission_format.head()"
   ]
  },
  {
   "cell_type": "code",
   "execution_count": null,
   "id": "21b3c2ea-f58b-428d-bb57-eda08d735b03",
   "metadata": {},
   "outputs": [],
   "source": [
    "submisson_data.head()"
   ]
  },
  {
   "cell_type": "code",
   "execution_count": 10,
   "id": "87b900a1-00eb-4952-a08a-619b1bc86698",
   "metadata": {},
   "outputs": [
    {
     "data": {
      "text/html": [
       "<div>\n",
       "<style scoped>\n",
       "    .dataframe tbody tr th:only-of-type {\n",
       "        vertical-align: middle;\n",
       "    }\n",
       "\n",
       "    .dataframe tbody tr th {\n",
       "        vertical-align: top;\n",
       "    }\n",
       "\n",
       "    .dataframe thead th {\n",
       "        text-align: right;\n",
       "    }\n",
       "</style>\n",
       "<table border=\"1\" class=\"dataframe\">\n",
       "  <thead>\n",
       "    <tr style=\"text-align: right;\">\n",
       "      <th></th>\n",
       "      <th>Year</th>\n",
       "      <th>Month</th>\n",
       "      <th>ProductCategory</th>\n",
       "      <th>Sales(In ThousandDollars)</th>\n",
       "    </tr>\n",
       "  </thead>\n",
       "  <tbody>\n",
       "    <tr>\n",
       "      <th>0</th>\n",
       "      <td>2009</td>\n",
       "      <td>1</td>\n",
       "      <td>WomenClothing</td>\n",
       "      <td>1755.0</td>\n",
       "    </tr>\n",
       "    <tr>\n",
       "      <th>1</th>\n",
       "      <td>2009</td>\n",
       "      <td>1</td>\n",
       "      <td>MenClothing</td>\n",
       "      <td>524.0</td>\n",
       "    </tr>\n",
       "    <tr>\n",
       "      <th>2</th>\n",
       "      <td>2009</td>\n",
       "      <td>1</td>\n",
       "      <td>OtherClothing</td>\n",
       "      <td>936.0</td>\n",
       "    </tr>\n",
       "    <tr>\n",
       "      <th>3</th>\n",
       "      <td>2009</td>\n",
       "      <td>2</td>\n",
       "      <td>WomenClothing</td>\n",
       "      <td>1729.0</td>\n",
       "    </tr>\n",
       "    <tr>\n",
       "      <th>4</th>\n",
       "      <td>2009</td>\n",
       "      <td>2</td>\n",
       "      <td>MenClothing</td>\n",
       "      <td>496.0</td>\n",
       "    </tr>\n",
       "  </tbody>\n",
       "</table>\n",
       "</div>"
      ],
      "text/plain": [
       "   Year  Month ProductCategory  Sales(In ThousandDollars)\n",
       "0  2009      1   WomenClothing                     1755.0\n",
       "1  2009      1     MenClothing                      524.0\n",
       "2  2009      1   OtherClothing                      936.0\n",
       "3  2009      2   WomenClothing                     1729.0\n",
       "4  2009      2     MenClothing                      496.0"
      ]
     },
     "execution_count": 10,
     "metadata": {},
     "output_type": "execute_result"
    }
   ],
   "source": [
    "train_data.head()"
   ]
  },
  {
   "cell_type": "code",
   "execution_count": null,
   "id": "ca021493-8f99-4f82-82ae-5b82962357d8",
   "metadata": {},
   "outputs": [],
   "source": []
  }
 ],
 "metadata": {
  "kernelspec": {
   "display_name": "Python 3 (ipykernel)",
   "language": "python",
   "name": "python3"
  },
  "language_info": {
   "codemirror_mode": {
    "name": "ipython",
    "version": 3
   },
   "file_extension": ".py",
   "mimetype": "text/x-python",
   "name": "python",
   "nbconvert_exporter": "python",
   "pygments_lexer": "ipython3",
   "version": "3.10.12"
  }
 },
 "nbformat": 4,
 "nbformat_minor": 5
}
