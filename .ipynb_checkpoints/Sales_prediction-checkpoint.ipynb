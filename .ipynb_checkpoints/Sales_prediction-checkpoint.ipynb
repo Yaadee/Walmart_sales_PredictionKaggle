{
 "cells": [
  {
   "cell_type": "code",
   "execution_count": 36,
   "id": "a0b7225c-a22a-439b-bf17-c6aa2aed67c7",
   "metadata": {},
   "outputs": [
    {
     "name": "stdout",
     "output_type": "stream",
     "text": [
      "Defaulting to user installation because normal site-packages is not writeable\n",
      "Collecting xgboost\n",
      "  Downloading xgboost-2.1.0-py3-none-manylinux_2_28_x86_64.whl.metadata (2.1 kB)\n",
      "Requirement already satisfied: numpy in /home/yadasa/.local/lib/python3.10/site-packages (from xgboost) (1.26.4)\n",
      "Collecting nvidia-nccl-cu12 (from xgboost)\n",
      "  Downloading nvidia_nccl_cu12-2.22.3-py3-none-manylinux2014_x86_64.whl.metadata (1.8 kB)\n",
      "Requirement already satisfied: scipy in /home/yadasa/.local/lib/python3.10/site-packages (from xgboost) (1.13.0)\n",
      "Downloading xgboost-2.1.0-py3-none-manylinux_2_28_x86_64.whl (153.9 MB)\n",
      "\u001b[2K   \u001b[38;2;114;156;31m━━━━━━━━━━━━━━━━━━━━━━━━━━━━━━━━━━━━━━━\u001b[0m \u001b[32m153.9/153.9 MB\u001b[0m \u001b[31m510.6 kB/s\u001b[0m eta \u001b[36m0:00:00\u001b[0mm eta \u001b[36m0:00:01\u001b[0m[36m0:00:08\u001b[0m\n",
      "\u001b[?25hDownloading nvidia_nccl_cu12-2.22.3-py3-none-manylinux2014_x86_64.whl (190.9 MB)\n",
      "\u001b[2K   \u001b[38;2;114;156;31m━━━━━━━━━━━━━━━━━━━━━━━━━━━━━━━━━━━━━━━\u001b[0m \u001b[32m190.9/190.9 MB\u001b[0m \u001b[31m539.3 kB/s\u001b[0m eta \u001b[36m0:00:00\u001b[0mm eta \u001b[36m0:00:01\u001b[0m[36m0:00:09\u001b[0m\n",
      "\u001b[?25hInstalling collected packages: nvidia-nccl-cu12, xgboost\n",
      "Successfully installed nvidia-nccl-cu12-2.22.3 xgboost-2.1.0\n",
      "\n",
      "\u001b[1m[\u001b[0m\u001b[34;49mnotice\u001b[0m\u001b[1;39;49m]\u001b[0m\u001b[39;49m A new release of pip is available: \u001b[0m\u001b[31;49m24.0\u001b[0m\u001b[39;49m -> \u001b[0m\u001b[32;49m24.1.1\u001b[0m\n",
      "\u001b[1m[\u001b[0m\u001b[34;49mnotice\u001b[0m\u001b[1;39;49m]\u001b[0m\u001b[39;49m To update, run: \u001b[0m\u001b[32;49mpython3 -m pip install --upgrade pip\u001b[0m\n",
      "Note: you may need to restart the kernel to use updated packages.\n"
     ]
    }
   ],
   "source": [
    "pip install xgboost"
   ]
  },
  {
   "cell_type": "code",
   "execution_count": null,
   "id": "2d68c466-91d4-4df1-ab22-611e24ed80d4",
   "metadata": {},
   "outputs": [],
   "source": [
    "# SalesPredictionKaggle.ipynb\n",
    "# Import necessary libraries\n",
    "import pandas as pd\n",
    "import numpy as np\n",
    "import seaborn as sns\n",
    "import matplotlib.pyplot as plt\n",
    "import os\n",
    "import glob\n",
    "import calendar\n",
    "import datetime as dt\n",
    "from statsmodels.graphics.tsaplots import plot_pacf\n",
    "from statsmodels.tsa.deterministic import DeterministicProcess, CalendarFourier\n",
    "from sklearn.linear_model import LinearRegression\n",
    "from sklearn.metrics import mean_squared_error\n",
    "from sklearn.neighbors import KNeighborsRegressor\n",
    "from sklearn.ensemble import RandomForestRegressor\n",
    "from sklearn.neural_network import MLPRegressor\n",
    "from xgboost import XGBRegressor\n",
    "from mlxtend.preprocessing import minmax_scaling"
   ]
  },
  {
   "cell_type": "code",
   "execution_count": 34,
   "id": "628815d1-f3a4-4784-8da7-26500e26d0eb",
   "metadata": {},
   "outputs": [],
   "source": [
    "# Load datasets\n",
    "macro_data = pd.read_csv(\"data/processed_data/macro_economic.csv\")\n",
    "events_Holidays_data = pd.read_csv(\"data/processed_data/events_Holidays_data.csv\")\n",
    "weather_data = pd.read_csv(\"data/processed_data/weather_data.csv\")\n",
    "train_data = pd.read_csv(\"data/processed_data/train.csv\")\n",
    "test_data = pd.read_csv(\"data/raw_data/Kaggle_Submission_Format.csv\")"
   ]
  },
  {
   "cell_type": "code",
   "execution_count": null,
   "id": "c9b2eba6-c8f3-458d-91e1-fbe1227d1718",
   "metadata": {},
   "outputs": [],
   "source": [
    "# Clean the test_data by removing the Unnamed column\n",
    "test_data = test_data.loc[:, ~test_data.columns.str.contains('^Unnamed')]"
   ]
  },
  {
   "cell_type": "code",
   "execution_count": null,
   "id": "37187783-625c-4db9-9306-01d7ef40a784",
   "metadata": {},
   "outputs": [],
   "source": [
    "\n",
    "# Exploratory Data Analysis (EDA)\n",
    "print(\"Train Data Overview:\")\n",
    "print(train_data.head())\n",
    "\n",
    "# Visualize sales over time\n",
    "plt.figure(figsize=(14, 7))\n",
    "sns.lineplot(data=train_data, x='Month', y='Sales(In ThousandDollars)', hue='ProductCategory')\n",
    "plt.title('Sales over Time by Product Category')\n",
    "plt.show()"
   ]
  },
  {
   "cell_type": "code",
   "execution_count": null,
   "id": "af41840d-a091-4cf4-bffe-24b823eafc26",
   "metadata": {},
   "outputs": [],
   "source": [
    "train_data = pd.read_csv(\"data/processed_data/train.csv\")\n"
   ]
  },
  {
   "cell_type": "code",
   "execution_count": null,
   "id": "18d678ad-37d8-4823-b810-31ba1c319f51",
   "metadata": {},
   "outputs": [],
   "source": [
    "submisson_data=pd.read_csv(\"data/processed_data/Submission.csv\")"
   ]
  },
  {
   "cell_type": "code",
   "execution_count": null,
   "id": "b1e6c214-dc76-4bed-b3e3-f54a7ec2d964",
   "metadata": {},
   "outputs": [],
   "source": [
    "kaggle_submission_format = pd.read_csv(\"data/processed_data/Kaggle_Submission_Format.csv\")"
   ]
  },
  {
   "cell_type": "code",
   "execution_count": null,
   "id": "55e16a04-c2f5-4eff-a0e3-3a2351b575da",
   "metadata": {},
   "outputs": [],
   "source": [
    "kaggle_submission_format.head()"
   ]
  },
  {
   "cell_type": "code",
   "execution_count": null,
   "id": "21b3c2ea-f58b-428d-bb57-eda08d735b03",
   "metadata": {},
   "outputs": [],
   "source": [
    "submisson_data.head()"
   ]
  },
  {
   "cell_type": "code",
   "execution_count": 10,
   "id": "87b900a1-00eb-4952-a08a-619b1bc86698",
   "metadata": {},
   "outputs": [
    {
     "data": {
      "text/html": [
       "<div>\n",
       "<style scoped>\n",
       "    .dataframe tbody tr th:only-of-type {\n",
       "        vertical-align: middle;\n",
       "    }\n",
       "\n",
       "    .dataframe tbody tr th {\n",
       "        vertical-align: top;\n",
       "    }\n",
       "\n",
       "    .dataframe thead th {\n",
       "        text-align: right;\n",
       "    }\n",
       "</style>\n",
       "<table border=\"1\" class=\"dataframe\">\n",
       "  <thead>\n",
       "    <tr style=\"text-align: right;\">\n",
       "      <th></th>\n",
       "      <th>Year</th>\n",
       "      <th>Month</th>\n",
       "      <th>ProductCategory</th>\n",
       "      <th>Sales(In ThousandDollars)</th>\n",
       "    </tr>\n",
       "  </thead>\n",
       "  <tbody>\n",
       "    <tr>\n",
       "      <th>0</th>\n",
       "      <td>2009</td>\n",
       "      <td>1</td>\n",
       "      <td>WomenClothing</td>\n",
       "      <td>1755.0</td>\n",
       "    </tr>\n",
       "    <tr>\n",
       "      <th>1</th>\n",
       "      <td>2009</td>\n",
       "      <td>1</td>\n",
       "      <td>MenClothing</td>\n",
       "      <td>524.0</td>\n",
       "    </tr>\n",
       "    <tr>\n",
       "      <th>2</th>\n",
       "      <td>2009</td>\n",
       "      <td>1</td>\n",
       "      <td>OtherClothing</td>\n",
       "      <td>936.0</td>\n",
       "    </tr>\n",
       "    <tr>\n",
       "      <th>3</th>\n",
       "      <td>2009</td>\n",
       "      <td>2</td>\n",
       "      <td>WomenClothing</td>\n",
       "      <td>1729.0</td>\n",
       "    </tr>\n",
       "    <tr>\n",
       "      <th>4</th>\n",
       "      <td>2009</td>\n",
       "      <td>2</td>\n",
       "      <td>MenClothing</td>\n",
       "      <td>496.0</td>\n",
       "    </tr>\n",
       "  </tbody>\n",
       "</table>\n",
       "</div>"
      ],
      "text/plain": [
       "   Year  Month ProductCategory  Sales(In ThousandDollars)\n",
       "0  2009      1   WomenClothing                     1755.0\n",
       "1  2009      1     MenClothing                      524.0\n",
       "2  2009      1   OtherClothing                      936.0\n",
       "3  2009      2   WomenClothing                     1729.0\n",
       "4  2009      2     MenClothing                      496.0"
      ]
     },
     "execution_count": 10,
     "metadata": {},
     "output_type": "execute_result"
    }
   ],
   "source": [
    "train_data.head()"
   ]
  },
  {
   "cell_type": "code",
   "execution_count": null,
   "id": "ca021493-8f99-4f82-82ae-5b82962357d8",
   "metadata": {},
   "outputs": [],
   "source": []
  }
 ],
 "metadata": {
  "kernelspec": {
   "display_name": "Python 3 (ipykernel)",
   "language": "python",
   "name": "python3"
  },
  "language_info": {
   "codemirror_mode": {
    "name": "ipython",
    "version": 3
   },
   "file_extension": ".py",
   "mimetype": "text/x-python",
   "name": "python",
   "nbconvert_exporter": "python",
   "pygments_lexer": "ipython3",
   "version": "3.10.12"
  }
 },
 "nbformat": 4,
 "nbformat_minor": 5
}
